{
 "cells": [
  {
   "cell_type": "markdown",
   "id": "003d3879",
   "metadata": {},
   "source": [
    "# Подготовка модели распознавания рукописных букв и цифр"
   ]
  },
  {
   "cell_type": "code",
   "execution_count": null,
   "id": "4b04bb54",
   "metadata": {},
   "outputs": [],
   "source": []
  },
  {
   "cell_type": "code",
   "execution_count": 1,
   "id": "bff5258f",
   "metadata": {},
   "outputs": [],
   "source": [
    "import torch\n",
    "from torch import nn\n",
    "from torch.utils.data import DataLoader, random_split\n",
    "from torchvision.transforms import ToTensor, Compose, Normalize\n",
    "from torchinfo import summary\n",
    "from torchvision import datasets, transforms\n",
    "import matplotlib.pyplot as plt"
   ]
  },
  {
   "cell_type": "code",
   "execution_count": 2,
   "id": "17fa0c85",
   "metadata": {},
   "outputs": [],
   "source": [
    "from torchvision.datasets import EMNIST\n",
    "dataset = EMNIST('data/', 'balanced', download=False)"
   ]
  },
  {
   "cell_type": "code",
   "execution_count": null,
   "id": "68afc936",
   "metadata": {},
   "outputs": [],
   "source": [
    "import os\n",
    "import pickle\n",
    "labels_path = os.path.join('myapp', 'labelz.pickle')\n",
    "with open(labels_path, 'rb') as f:\n",
    "    labelz = pickle.load(f)"
   ]
  },
  {
   "cell_type": "code",
   "execution_count": 41,
   "id": "84e4ebc1",
   "metadata": {},
   "outputs": [
    {
     "name": "stdout",
     "output_type": "stream",
     "text": [
      "Train: 112800\n",
      "Valid: 18800\n",
      "r (28, 28)\n"
     ]
    },
    {
     "data": {
      "image/jpeg": "[encoded data removed]",
      "image/png": "[encoded data removed]",
      "text/plain": [
       "<PIL.Image.Image image mode=L size=28x28>"
      ]
     },
     "metadata": {},
     "output_type": "display_data"
    },
    {
     "name": "stdout",
     "output_type": "stream",
     "text": [
      "a (28, 28)\n"
     ]
    },
    {
     "data": {
      "image/jpeg": "[encoded data removed]",
      "image/png": "[encoded data removed]",
      "text/plain": [
       "<PIL.Image.Image image mode=L size=28x28>"
      ]
     },
     "metadata": {},
     "output_type": "display_data"
    },
    {
     "name": "stdout",
     "output_type": "stream",
     "text": [
      "n (28, 28)\n"
     ]
    },
    {
     "data": {
      "image/jpeg": "[encoded data removed]",
      "image/png": "[encoded data removed]",
      "text/plain": [
       "<PIL.Image.Image image mode=L size=28x28>"
      ]
     },
     "metadata": {},
     "output_type": "display_data"
    },
    {
     "name": "stdout",
     "output_type": "stream",
     "text": [
      "F (28, 28)\n"
     ]
    },
    {
     "data": {
      "image/jpeg": "[encoded data removed]",
      "image/png": "[encoded data removed]",
      "text/plain": [
       "<PIL.Image.Image image mode=L size=28x28>"
      ]
     },
     "metadata": {},
     "output_type": "display_data"
    },
    {
     "name": "stdout",
     "output_type": "stream",
     "text": [
      "4 (28, 28)\n"
     ]
    },
    {
     "data": {
      "image/jpeg": "[encoded data removed]",
      "image/png": "[encoded data removed]",
      "text/plain": [
       "<PIL.Image.Image image mode=L size=28x28>"
      ]
     },
     "metadata": {},
     "output_type": "display_data"
    },
    {
     "name": "stdout",
     "output_type": "stream",
     "text": [
      "h (28, 28)\n"
     ]
    },
    {
     "data": {
      "image/jpeg": "[encoded data removed]",
      "image/png": "[encoded data removed]",
      "text/plain": [
       "<PIL.Image.Image image mode=L size=28x28>"
      ]
     },
     "metadata": {},
     "output_type": "display_data"
    },
    {
     "name": "stdout",
     "output_type": "stream",
     "text": [
      "Q (28, 28)\n"
     ]
    },
    {
     "data": {
      "image/jpeg": "[encoded data removed]",
      "image/png": "[encoded data removed]",
      "text/plain": [
       "<PIL.Image.Image image mode=L size=28x28>"
      ]
     },
     "metadata": {},
     "output_type": "display_data"
    },
    {
     "name": "stdout",
     "output_type": "stream",
     "text": [
      "W (28, 28)\n"
     ]
    },
    {
     "data": {
      "image/jpeg": "[encoded data removed]",
      "image/png": "[encoded data removed]",
      "text/plain": [
       "<PIL.Image.Image image mode=L size=28x28>"
      ]
     },
     "metadata": {},
     "output_type": "display_data"
    },
    {
     "name": "stdout",
     "output_type": "stream",
     "text": [
      "K (28, 28)\n"
     ]
    },
    {
     "data": {
      "image/jpeg": "[encoded data removed]",
      "image/png": "[encoded data removed]",
      "text/plain": [
       "<PIL.Image.Image image mode=L size=28x28>"
      ]
     },
     "metadata": {},
     "output_type": "display_data"
    },
    {
     "name": "stdout",
     "output_type": "stream",
     "text": [
      "1 (28, 28)\n"
     ]
    },
    {
     "data": {
      "image/jpeg": "[encoded data removed]",
      "image/png": "[encoded data removed]",
      "text/plain": [
       "<PIL.Image.Image image mode=L size=28x28>"
      ]
     },
     "metadata": {},
     "output_type": "display_data"
    },
    {
     "name": "stdout",
     "output_type": "stream",
     "text": [
      "t (28, 28)\n"
     ]
    },
    {
     "data": {
      "image/jpeg": "[encoded data removed]",
      "image/png": "[encoded data removed]",
      "text/plain": [
       "<PIL.Image.Image image mode=L size=28x28>"
      ]
     },
     "metadata": {},
     "output_type": "display_data"
    },
    {
     "name": "stdout",
     "output_type": "stream",
     "text": [
      "n (28, 28)\n"
     ]
    },
    {
     "data": {
      "image/jpeg": "[encoded data removed]",
      "image/png": "[encoded data removed]",
      "text/plain": [
       "<PIL.Image.Image image mode=L size=28x28>"
      ]
     },
     "metadata": {},
     "output_type": "display_data"
    },
    {
     "name": "stdout",
     "output_type": "stream",
     "text": [
      "F (28, 28)\n"
     ]
    },
    {
     "data": {
      "image/jpeg": "[encoded data removed]",
      "image/png": "[encoded data removed]",
      "text/plain": [
       "<PIL.Image.Image image mode=L size=28x28>"
      ]
     },
     "metadata": {},
     "output_type": "display_data"
    },
    {
     "name": "stdout",
     "output_type": "stream",
     "text": [
      "D (28, 28)\n"
     ]
    },
    {
     "data": {
      "image/jpeg": "[encoded data removed]",
      "image/png": "[encoded data removed]",
      "text/plain": [
       "<PIL.Image.Image image mode=L size=28x28>"
      ]
     },
     "metadata": {},
     "output_type": "display_data"
    },
    {
     "name": "stdout",
     "output_type": "stream",
     "text": [
      "O (28, 28)\n"
     ]
    },
    {
     "data": {
      "image/jpeg": "[encoded data removed]",
      "image/png": "[encoded data removed]",
      "text/plain": [
       "<PIL.Image.Image image mode=L size=28x28>"
      ]
     },
     "metadata": {},
     "output_type": "display_data"
    },
    {
     "name": "stdout",
     "output_type": "stream",
     "text": [
      "C (28, 28)\n"
     ]
    },
    {
     "data": {
      "image/jpeg": "[encoded data removed]",
      "image/png": "[encoded data removed]",
      "text/plain": [
       "<PIL.Image.Image image mode=L size=28x28>"
      ]
     },
     "metadata": {},
     "output_type": "display_data"
    },
    {
     "name": "stdout",
     "output_type": "stream",
     "text": [
      "5 (28, 28)\n"
     ]
    },
    {
     "data": {
      "image/jpeg": "[encoded data removed]",
      "image/png": "[encoded data removed]",
      "text/plain": [
       "<PIL.Image.Image image mode=L size=28x28>"
      ]
     },
     "metadata": {},
     "output_type": "display_data"
    },
    {
     "name": "stdout",
     "output_type": "stream",
     "text": [
      "H (28, 28)\n"
     ]
    },
    {
     "data": {
      "image/jpeg": "[encoded data removed]",
      "image/png": "[encoded data removed]",
      "text/plain": [
       "<PIL.Image.Image image mode=L size=28x28>"
      ]
     },
     "metadata": {},
     "output_type": "display_data"
    },
    {
     "name": "stdout",
     "output_type": "stream",
     "text": [
      "3 (28, 28)\n"
     ]
    },
    {
     "data": {
      "image/jpeg": "[encoded data removed]",
      "image/png": "[encoded data removed]",
      "text/plain": [
       "<PIL.Image.Image image mode=L size=28x28>"
      ]
     },
     "metadata": {},
     "output_type": "display_data"
    },
    {
     "name": "stdout",
     "output_type": "stream",
     "text": [
      "f (28, 28)\n"
     ]
    },
    {
     "data": {
      "image/jpeg": "[encoded data removed]",
      "image/png": "[encoded data removed]",
      "text/plain": [
       "<PIL.Image.Image image mode=L size=28x28>"
      ]
     },
     "metadata": {},
     "output_type": "display_data"
    },
    {
     "name": "stdout",
     "output_type": "stream",
     "text": [
      "h (28, 28)\n"
     ]
    },
    {
     "data": {
      "image/jpeg": "[encoded data removed]",
      "image/png": "[encoded data removed]",
      "text/plain": [
       "<PIL.Image.Image image mode=L size=28x28>"
      ]
     },
     "metadata": {},
     "output_type": "display_data"
    },
    {
     "name": "stdout",
     "output_type": "stream",
     "text": [
      "E (28, 28)\n"
     ]
    },
    {
     "data": {
      "image/jpeg": "[encoded data removed]",
      "image/png": "[encoded data removed]",
      "text/plain": [
       "<PIL.Image.Image image mode=L size=28x28>"
      ]
     },
     "metadata": {},
     "output_type": "display_data"
    },
    {
     "name": "stdout",
     "output_type": "stream",
     "text": [
      "E (28, 28)\n"
     ]
    },
    {
     "data": {
      "image/jpeg": "[encoded data removed]",
      "image/png": "[encoded data removed]",
      "text/plain": [
       "<PIL.Image.Image image mode=L size=28x28>"
      ]
     },
     "metadata": {},
     "output_type": "display_data"
    },
    {
     "name": "stdout",
     "output_type": "stream",
     "text": [
      "q (28, 28)\n"
     ]
    },
    {
     "data": {
      "image/jpeg": "[encoded data removed]",
      "image/png": "[encoded data removed]",
      "text/plain": [
       "<PIL.Image.Image image mode=L size=28x28>"
      ]
     },
     "metadata": {},
     "output_type": "display_data"
    },
    {
     "name": "stdout",
     "output_type": "stream",
     "text": [
      "W (28, 28)\n"
     ]
    },
    {
     "data": {
      "image/jpeg": "[encoded data removed]",
      "image/png": "[encoded data removed]",
      "text/plain": [
       "<PIL.Image.Image image mode=L size=28x28>"
      ]
     },
     "metadata": {},
     "output_type": "display_data"
    },
    {
     "name": "stdout",
     "output_type": "stream",
     "text": [
      "3 (28, 28)\n"
     ]
    },
    {
     "data": {
      "image/jpeg": "[encoded data removed]",
      "image/png": "[encoded data removed]",
      "text/plain": [
       "<PIL.Image.Image image mode=L size=28x28>"
      ]
     },
     "metadata": {},
     "output_type": "display_data"
    },
    {
     "name": "stdout",
     "output_type": "stream",
     "text": [
      "J (28, 28)\n"
     ]
    },
    {
     "data": {
      "image/jpeg": "[encoded data removed]",
      "image/png": "[encoded data removed]",
      "text/plain": [
       "<PIL.Image.Image image mode=L size=28x28>"
      ]
     },
     "metadata": {},
     "output_type": "display_data"
    },
    {
     "name": "stdout",
     "output_type": "stream",
     "text": [
      "h (28, 28)\n"
     ]
    },
    {
     "data": {
      "image/jpeg": "[encoded data removed]",
      "image/png": "[encoded data removed]",
      "text/plain": [
       "<PIL.Image.Image image mode=L size=28x28>"
      ]
     },
     "metadata": {},
     "output_type": "display_data"
    },
    {
     "name": "stdout",
     "output_type": "stream",
     "text": [
      "T (28, 28)\n"
     ]
    },
    {
     "data": {
      "image/jpeg": "[encoded data removed]",
      "image/png": "[encoded data removed]",
      "text/plain": [
       "<PIL.Image.Image image mode=L size=28x28>"
      ]
     },
     "metadata": {},
     "output_type": "display_data"
    },
    {
     "name": "stdout",
     "output_type": "stream",
     "text": [
      "f (28, 28)\n"
     ]
    },
    {
     "data": {
      "image/jpeg": "[encoded data removed]",
      "image/png": "[encoded data removed]",
      "text/plain": [
       "<PIL.Image.Image image mode=L size=28x28>"
      ]
     },
     "metadata": {},
     "output_type": "display_data"
    },
    {
     "name": "stdout",
     "output_type": "stream",
     "text": [
      "H (28, 28)\n"
     ]
    },
    {
     "data": {
      "image/jpeg": "[encoded data removed]",
      "image/png": "[encoded data removed]",
      "text/plain": [
       "<PIL.Image.Image image mode=L size=28x28>"
      ]
     },
     "metadata": {},
     "output_type": "display_data"
    },
    {
     "name": "stdout",
     "output_type": "stream",
     "text": [
      "P (28, 28)\n"
     ]
    },
    {
     "data": {
      "image/jpeg": "[encoded data removed]",
      "image/png": "[encoded data removed]",
      "text/plain": [
       "<PIL.Image.Image image mode=L size=28x28>"
      ]
     },
     "metadata": {},
     "output_type": "display_data"
    },
    {
     "name": "stdout",
     "output_type": "stream",
     "text": [
      "3 (28, 28)\n"
     ]
    },
    {
     "data": {
      "image/jpeg": "[encoded data removed]",
      "image/png": "[encoded data removed]",
      "text/plain": [
       "<PIL.Image.Image image mode=L size=28x28>"
      ]
     },
     "metadata": {},
     "output_type": "display_data"
    },
    {
     "name": "stdout",
     "output_type": "stream",
     "text": [
      "Z (28, 28)\n"
     ]
    },
    {
     "data": {
      "image/jpeg": "[encoded data removed]",
      "image/png": "[encoded data removed]",
      "text/plain": [
       "<PIL.Image.Image image mode=L size=28x28>"
      ]
     },
     "metadata": {},
     "output_type": "display_data"
    },
    {
     "name": "stdout",
     "output_type": "stream",
     "text": [
      "K (28, 28)\n"
     ]
    },
    {
     "data": {
      "image/jpeg": "[encoded data removed]",
      "image/png": "[encoded data removed]",
      "text/plain": [
       "<PIL.Image.Image image mode=L size=28x28>"
      ]
     },
     "metadata": {},
     "output_type": "display_data"
    },
    {
     "name": "stdout",
     "output_type": "stream",
     "text": [
      "Z (28, 28)\n"
     ]
    },
    {
     "data": {
      "image/jpeg": "[encoded data removed]",
      "image/png": "[encoded data removed]",
      "text/plain": [
       "<PIL.Image.Image image mode=L size=28x28>"
      ]
     },
     "metadata": {},
     "output_type": "display_data"
    },
    {
     "name": "stdout",
     "output_type": "stream",
     "text": [
      "Q (28, 28)\n"
     ]
    },
    {
     "data": {
      "image/jpeg": "[encoded data removed]",
      "image/png": "[encoded data removed]",
      "text/plain": [
       "<PIL.Image.Image image mode=L size=28x28>"
      ]
     },
     "metadata": {},
     "output_type": "display_data"
    },
    {
     "name": "stdout",
     "output_type": "stream",
     "text": [
      "H (28, 28)\n"
     ]
    },
    {
     "data": {
      "image/jpeg": "[encoded data removed]",
      "image/png": "[encoded data removed]",
      "text/plain": [
       "<PIL.Image.Image image mode=L size=28x28>"
      ]
     },
     "metadata": {},
     "output_type": "display_data"
    },
    {
     "name": "stdout",
     "output_type": "stream",
     "text": [
      "t (28, 28)\n"
     ]
    },
    {
     "data": {
      "image/jpeg": "[encoded data removed]",
      "image/png": "[encoded data removed]",
      "text/plain": [
       "<PIL.Image.Image image mode=L size=28x28>"
      ]
     },
     "metadata": {},
     "output_type": "display_data"
    },
    {
     "name": "stdout",
     "output_type": "stream",
     "text": [
      "S (28, 28)\n"
     ]
    },
    {
     "data": {
      "image/jpeg": "[encoded data removed]",
      "image/png": "[encoded data removed]",
      "text/plain": [
       "<PIL.Image.Image image mode=L size=28x28>"
      ]
     },
     "metadata": {},
     "output_type": "display_data"
    },
    {
     "name": "stdout",
     "output_type": "stream",
     "text": [
      "P (28, 28)\n"
     ]
    },
    {
     "data": {
      "image/jpeg": "[encoded data removed]",
      "image/png": "[encoded data removed]",
      "text/plain": [
       "<PIL.Image.Image image mode=L size=28x28>"
      ]
     },
     "metadata": {},
     "output_type": "display_data"
    },
    {
     "name": "stdout",
     "output_type": "stream",
     "text": [
      "W (28, 28)\n"
     ]
    },
    {
     "data": {
      "image/jpeg": "[encoded data removed]",
      "image/png": "[encoded data removed]",
      "text/plain": [
       "<PIL.Image.Image image mode=L size=28x28>"
      ]
     },
     "metadata": {},
     "output_type": "display_data"
    },
    {
     "name": "stdout",
     "output_type": "stream",
     "text": [
      "N (28, 28)\n"
     ]
    },
    {
     "data": {
      "image/jpeg": "[encoded data removed]",
      "image/png": "[encoded data removed]",
      "text/plain": [
       "<PIL.Image.Image image mode=L size=28x28>"
      ]
     },
     "metadata": {},
     "output_type": "display_data"
    },
    {
     "name": "stdout",
     "output_type": "stream",
     "text": [
      "M (28, 28)\n"
     ]
    },
    {
     "data": {
      "image/jpeg": "[encoded data removed]",
      "image/png": "[encoded data removed]",
      "text/plain": [
       "<PIL.Image.Image image mode=L size=28x28>"
      ]
     },
     "metadata": {},
     "output_type": "display_data"
    },
    {
     "name": "stdout",
     "output_type": "stream",
     "text": [
      "Y (28, 28)\n"
     ]
    },
    {
     "data": {
      "image/jpeg": "[encoded data removed]",
      "image/png": "[encoded data removed]",
      "text/plain": [
       "<PIL.Image.Image image mode=L size=28x28>"
      ]
     },
     "metadata": {},
     "output_type": "display_data"
    },
    {
     "name": "stdout",
     "output_type": "stream",
     "text": [
      "9 (28, 28)\n"
     ]
    },
    {
     "data": {
      "image/jpeg": "[encoded data removed]",
      "image/png": "[encoded data removed]",
      "text/plain": [
       "<PIL.Image.Image image mode=L size=28x28>"
      ]
     },
     "metadata": {},
     "output_type": "display_data"
    },
    {
     "name": "stdout",
     "output_type": "stream",
     "text": [
      "t (28, 28)\n"
     ]
    },
    {
     "data": {
      "image/jpeg": "[encoded data removed]",
      "image/png": "[encoded data removed]",
      "text/plain": [
       "<PIL.Image.Image image mode=L size=28x28>"
      ]
     },
     "metadata": {},
     "output_type": "display_data"
    },
    {
     "name": "stdout",
     "output_type": "stream",
     "text": [
      "J (28, 28)\n"
     ]
    },
    {
     "data": {
      "image/jpeg": "[encoded data removed]",
      "image/png": "[encoded data removed]",
      "text/plain": [
       "<PIL.Image.Image image mode=L size=28x28>"
      ]
     },
     "metadata": {},
     "output_type": "display_data"
    },
    {
     "name": "stdout",
     "output_type": "stream",
     "text": [
      "U (28, 28)\n"
     ]
    },
    {
     "data": {
      "image/jpeg": "[encoded data removed]",
      "image/png": "[encoded data removed]",
      "text/plain": [
       "<PIL.Image.Image image mode=L size=28x28>"
      ]
     },
     "metadata": {},
     "output_type": "display_data"
    },
    {
     "name": "stdout",
     "output_type": "stream",
     "text": [
      "d (28, 28)\n"
     ]
    },
    {
     "data": {
      "image/jpeg": "[encoded data removed]",
      "image/png": "[encoded data removed]",
      "text/plain": [
       "<PIL.Image.Image image mode=L size=28x28>"
      ]
     },
     "metadata": {},
     "output_type": "display_data"
    }
   ],
   "source": [
    "train_dataset = EMNIST('data/', 'balanced', train=True, download=False)\n",
    "val_dataset = EMNIST('data/', 'balanced',train=False)\n",
    "\n",
    "print('Train:', len(train_dataset))\n",
    "print('Valid:', len(val_dataset))\n",
    "\n",
    "for i in range(50):\n",
    "    img, lbl = train_dataset[i]\n",
    "    print(labelz[lbl], img.size)\n",
    "    display(img)"
   ]
  },
  {
   "cell_type": "code",
   "execution_count": 4,
   "id": "1d820102",
   "metadata": {},
   "outputs": [],
   "source": [
    "transform = transforms.Compose([\n",
    "    transforms.ToTensor(),\n",
    "    transforms.Normalize([0.5], [0.5])\n",
    "])\n",
    "\n",
    "train_dataset = EMNIST('data/', 'balanced', train=True, download=False, transform=transform)\n",
    "val_dataset = EMNIST('data/', 'balanced', train=False, transform=transform)\n",
    "\n"
   ]
  },
  {
   "cell_type": "code",
   "execution_count": 5,
   "id": "c0585dc0",
   "metadata": {},
   "outputs": [],
   "source": [
    "train_dataset_l, train_dataset_s = random_split(train_dataset, [int(len(train_dataset)*0.8), int(len(train_dataset)*0.2)])  "
   ]
  },
  {
   "cell_type": "code",
   "execution_count": 15,
   "id": "0ab879c5",
   "metadata": {},
   "outputs": [],
   "source": [
    "train_loader = DataLoader(train_dataset, batch_size=1000, shuffle=True)\n",
    "val_loader = DataLoader(val_dataset, batch_size=1000)"
   ]
  },
  {
   "cell_type": "code",
   "execution_count": 32,
   "id": "e6e9ab8c",
   "metadata": {},
   "outputs": [],
   "source": [
    "class CNN_for_EMNIST(nn.Module):\n",
    "    def __init__(self):\n",
    "        super().__init__()\n",
    "        self.model = nn.Sequential(\n",
    "            nn.Conv2d(in_channels=1,\n",
    "                      out_channels=32,\n",
    "                      kernel_size=3,\n",
    "                      padding=1),\n",
    "            nn.LeakyReLU(),\n",
    "            nn.MaxPool2d(kernel_size=2, stride=2),\n",
    "            \n",
    "            nn.Conv2d(in_channels=32,\n",
    "                      out_channels=64,\n",
    "                      kernel_size=3,\n",
    "                      padding=1),\n",
    "            nn.LeakyReLU(),\n",
    "            nn.MaxPool2d(kernel_size=2, stride=2),\n",
    "            \n",
    "\n",
    "            nn.Flatten(),\n",
    "\n",
    "            nn.LazyLinear(256),\n",
    "            nn.LeakyReLU(),\n",
    "            nn.Dropout(0.3),\n",
    "            nn.LazyLinear(128),\n",
    "            nn.LeakyReLU(),\n",
    "            \n",
    "            nn.Linear(in_features=128, out_features=47)\n",
    "            \n",
    "        )\n",
    "\n",
    "    def forward(self,x):\n",
    "        return self.model(x)"
   ]
  },
  {
   "cell_type": "code",
   "execution_count": 16,
   "id": "b8711d43",
   "metadata": {},
   "outputs": [],
   "source": [
    "def train(model, optimizer, loss_f, train_loader, val_loader, n_epoch, val_fre):\n",
    "    model.train()\n",
    "    for epoch in range(n_epoch):\n",
    "        loss_sum = 0\n",
    "        print(f'Epoch: {epoch}')\n",
    "        for step, (data, target) in enumerate(train_loader):\n",
    "            optimizer.zero_grad()\n",
    "            output = model(data).squeeze(1)\n",
    "            loss = loss_f(output, target)\n",
    "            loss.backward()\n",
    "            optimizer.step()\n",
    "\n",
    "            loss_sum += loss.item()\n",
    "\n",
    "            if step % 10 == 0:\n",
    "                print(f'Iter: {step} \\tLoss: {loss.item()}')\n",
    "\n",
    "        print(f'Mean Train Loss: {loss_sum / (step + 1):.6f}', end='\\n\\n')\n",
    "\n",
    "        if epoch % val_fre == 0:\n",
    "            validate(model, val_loader)\n",
    "\n",
    "def validate(model, val_loader):\n",
    "    model.eval()\n",
    "    loss_sum = 0\n",
    "    correct = 0\n",
    "    for step, (data, target) in enumerate(val_loader):\n",
    "        with torch.no_grad():\n",
    "            output = model(data).squeeze(1)\n",
    "            loss = loss_f(output, target)\n",
    "        loss_sum += loss.item()\n",
    "        pred = output.argmax(dim=1, keepdim=True)\n",
    "        correct += pred.eq(target.view_as(pred)).sum().item()\n",
    "    acc = correct / len(val_loader.dataset)\n",
    "    print(f'Val Loss: {loss_sum / (step + 1):.6f} \\tAccuracy: {acc}')\n",
    "    model.train()"
   ]
  },
  {
   "cell_type": "code",
   "execution_count": 33,
   "id": "0f9a2769",
   "metadata": {},
   "outputs": [
    {
     "name": "stdout",
     "output_type": "stream",
     "text": [
      "Epoch: 0\n",
      "Iter: 0 \tLoss: 3.8484671115875244\n",
      "Iter: 10 \tLoss: 3.840355634689331\n",
      "Iter: 20 \tLoss: 3.6324594020843506\n",
      "Iter: 30 \tLoss: 3.0425806045532227\n",
      "Iter: 40 \tLoss: 2.4567606449127197\n",
      "Iter: 50 \tLoss: 1.9130405187606812\n",
      "Iter: 60 \tLoss: 1.536525845527649\n",
      "Iter: 70 \tLoss: 1.217049241065979\n",
      "Iter: 80 \tLoss: 1.1117042303085327\n",
      "Iter: 90 \tLoss: 1.0022014379501343\n",
      "Iter: 100 \tLoss: 0.9017571806907654\n",
      "Iter: 110 \tLoss: 0.8680554628372192\n",
      "Mean Train Loss: 2.087238\n",
      "\n",
      "Val Loss: 0.650398 \tAccuracy: 0.7868085106382978\n",
      "Epoch: 1\n",
      "Iter: 0 \tLoss: 0.7895172238349915\n",
      "Iter: 10 \tLoss: 0.7382951378822327\n",
      "Iter: 20 \tLoss: 0.7310895919799805\n",
      "Iter: 30 \tLoss: 0.6956156492233276\n",
      "Iter: 40 \tLoss: 0.6157835721969604\n",
      "Iter: 50 \tLoss: 0.6983235478401184\n",
      "Iter: 60 \tLoss: 0.5906784534454346\n",
      "Iter: 70 \tLoss: 0.6700958013534546\n",
      "Iter: 80 \tLoss: 0.5949503183364868\n",
      "Iter: 90 \tLoss: 0.5908921957015991\n",
      "Iter: 100 \tLoss: 0.6059530377388\n",
      "Iter: 110 \tLoss: 0.5071703791618347\n",
      "Mean Train Loss: 0.640854\n",
      "\n",
      "Epoch: 2\n",
      "Iter: 0 \tLoss: 0.5580134987831116\n",
      "Iter: 10 \tLoss: 0.5537605881690979\n",
      "Iter: 20 \tLoss: 0.5862409472465515\n",
      "Iter: 30 \tLoss: 0.48307687044143677\n",
      "Iter: 40 \tLoss: 0.6165803074836731\n",
      "Iter: 50 \tLoss: 0.4756234884262085\n",
      "Iter: 60 \tLoss: 0.45866453647613525\n",
      "Iter: 70 \tLoss: 0.5120396018028259\n",
      "Iter: 80 \tLoss: 0.5307149887084961\n",
      "Iter: 90 \tLoss: 0.5107764005661011\n",
      "Iter: 100 \tLoss: 0.5240975022315979\n",
      "Iter: 110 \tLoss: 0.5307760238647461\n",
      "Mean Train Loss: 0.519019\n",
      "\n",
      "Val Loss: 0.455125 \tAccuracy: 0.8454787234042553\n",
      "Epoch: 3\n",
      "Iter: 0 \tLoss: 0.4868159592151642\n",
      "Iter: 10 \tLoss: 0.3760719895362854\n",
      "Iter: 20 \tLoss: 0.4335331618785858\n",
      "Iter: 30 \tLoss: 0.4707983434200287\n",
      "Iter: 40 \tLoss: 0.4900316894054413\n",
      "Iter: 50 \tLoss: 0.4365847110748291\n",
      "Iter: 60 \tLoss: 0.4601559638977051\n",
      "Iter: 70 \tLoss: 0.4418107569217682\n",
      "Iter: 80 \tLoss: 0.4683034121990204\n",
      "Iter: 90 \tLoss: 0.45735299587249756\n",
      "Iter: 100 \tLoss: 0.4310295581817627\n",
      "Iter: 110 \tLoss: 0.5264795422554016\n",
      "Mean Train Loss: 0.470005\n",
      "\n",
      "Epoch: 4\n",
      "Iter: 0 \tLoss: 0.41180095076560974\n",
      "Iter: 10 \tLoss: 0.4378625154495239\n",
      "Iter: 20 \tLoss: 0.43715938925743103\n",
      "Iter: 30 \tLoss: 0.38316190242767334\n",
      "Iter: 40 \tLoss: 0.38695091009140015\n",
      "Iter: 50 \tLoss: 0.4011462330818176\n",
      "Iter: 60 \tLoss: 0.4371669292449951\n",
      "Iter: 70 \tLoss: 0.45970138907432556\n",
      "Iter: 80 \tLoss: 0.4700469672679901\n",
      "Iter: 90 \tLoss: 0.40360671281814575\n",
      "Iter: 100 \tLoss: 0.4314378798007965\n",
      "Iter: 110 \tLoss: 0.4309271275997162\n",
      "Mean Train Loss: 0.429357\n",
      "\n",
      "Val Loss: 0.399568 \tAccuracy: 0.8575531914893617\n",
      "Epoch: 5\n",
      "Iter: 0 \tLoss: 0.42876848578453064\n",
      "Iter: 10 \tLoss: 0.39388716220855713\n",
      "Iter: 20 \tLoss: 0.3873558044433594\n",
      "Iter: 30 \tLoss: 0.39463886618614197\n",
      "Iter: 40 \tLoss: 0.4296054244041443\n",
      "Iter: 50 \tLoss: 0.4111623167991638\n",
      "Iter: 60 \tLoss: 0.3699159622192383\n",
      "Iter: 70 \tLoss: 0.42721644043922424\n",
      "Iter: 80 \tLoss: 0.4063369929790497\n",
      "Iter: 90 \tLoss: 0.4391186535358429\n",
      "Iter: 100 \tLoss: 0.41730964183807373\n",
      "Iter: 110 \tLoss: 0.4624732732772827\n",
      "Mean Train Loss: 0.408882\n",
      "\n",
      "Epoch: 6\n",
      "Iter: 0 \tLoss: 0.41415002942085266\n",
      "Iter: 10 \tLoss: 0.3767790198326111\n",
      "Iter: 20 \tLoss: 0.3649355471134186\n",
      "Iter: 30 \tLoss: 0.3642420172691345\n",
      "Iter: 40 \tLoss: 0.3698921799659729\n",
      "Iter: 50 \tLoss: 0.40661245584487915\n",
      "Iter: 60 \tLoss: 0.348683625459671\n",
      "Iter: 70 \tLoss: 0.37291964888572693\n",
      "Iter: 80 \tLoss: 0.4212227165699005\n",
      "Iter: 90 \tLoss: 0.36481186747550964\n",
      "Iter: 100 \tLoss: 0.3697958290576935\n",
      "Iter: 110 \tLoss: 0.38663408160209656\n",
      "Mean Train Loss: 0.391442\n",
      "\n",
      "Val Loss: 0.377678 \tAccuracy: 0.8672340425531915\n",
      "Epoch: 7\n",
      "Iter: 0 \tLoss: 0.35617825388908386\n",
      "Iter: 10 \tLoss: 0.3282904624938965\n",
      "Iter: 20 \tLoss: 0.35128065943717957\n",
      "Iter: 30 \tLoss: 0.3383868932723999\n",
      "Iter: 40 \tLoss: 0.4363374710083008\n",
      "Iter: 50 \tLoss: 0.3210792541503906\n",
      "Iter: 60 \tLoss: 0.40608224272727966\n",
      "Iter: 70 \tLoss: 0.3943409323692322\n",
      "Iter: 80 \tLoss: 0.3980650007724762\n",
      "Iter: 90 \tLoss: 0.38552790880203247\n",
      "Iter: 100 \tLoss: 0.35506588220596313\n",
      "Iter: 110 \tLoss: 0.39933550357818604\n",
      "Mean Train Loss: 0.378508\n",
      "\n",
      "Epoch: 8\n",
      "Iter: 0 \tLoss: 0.36044254899024963\n",
      "Iter: 10 \tLoss: 0.37063443660736084\n",
      "Iter: 20 \tLoss: 0.3983449935913086\n",
      "Iter: 30 \tLoss: 0.40693849325180054\n",
      "Iter: 40 \tLoss: 0.396017849445343\n",
      "Iter: 50 \tLoss: 0.3478570878505707\n",
      "Iter: 60 \tLoss: 0.36548396944999695\n",
      "Iter: 70 \tLoss: 0.3974655866622925\n",
      "Iter: 80 \tLoss: 0.3309563994407654\n",
      "Iter: 90 \tLoss: 0.40535444021224976\n",
      "Iter: 100 \tLoss: 0.31105726957321167\n",
      "Iter: 110 \tLoss: 0.42422470450401306\n",
      "Mean Train Loss: 0.371507\n",
      "\n",
      "Val Loss: 0.378746 \tAccuracy: 0.8614893617021276\n",
      "Epoch: 9\n",
      "Iter: 0 \tLoss: 0.33009862899780273\n",
      "Iter: 10 \tLoss: 0.29657605290412903\n",
      "Iter: 20 \tLoss: 0.3454345464706421\n",
      "Iter: 30 \tLoss: 0.3861646056175232\n",
      "Iter: 40 \tLoss: 0.37312689423561096\n",
      "Iter: 50 \tLoss: 0.36460626125335693\n",
      "Iter: 60 \tLoss: 0.352000892162323\n",
      "Iter: 70 \tLoss: 0.3431199789047241\n",
      "Iter: 80 \tLoss: 0.34438201785087585\n",
      "Iter: 90 \tLoss: 0.3594098687171936\n",
      "Iter: 100 \tLoss: 0.36569997668266296\n",
      "Iter: 110 \tLoss: 0.355007141828537\n",
      "Mean Train Loss: 0.355086\n",
      "\n",
      "Epoch: 10\n",
      "Iter: 0 \tLoss: 0.3590998947620392\n",
      "Iter: 10 \tLoss: 0.34993988275527954\n",
      "Iter: 20 \tLoss: 0.3908401429653168\n",
      "Iter: 30 \tLoss: 0.3715818226337433\n",
      "Iter: 40 \tLoss: 0.3237125873565674\n",
      "Iter: 50 \tLoss: 0.3563668727874756\n",
      "Iter: 60 \tLoss: 0.35119548439979553\n",
      "Iter: 70 \tLoss: 0.37717461585998535\n",
      "Iter: 80 \tLoss: 0.3400824964046478\n",
      "Iter: 90 \tLoss: 0.3243957459926605\n",
      "Iter: 100 \tLoss: 0.3011362552642822\n",
      "Iter: 110 \tLoss: 0.32515719532966614\n",
      "Mean Train Loss: 0.345572\n",
      "\n",
      "Val Loss: 0.366009 \tAccuracy: 0.8703191489361702\n",
      "Epoch: 11\n",
      "Iter: 0 \tLoss: 0.3029179871082306\n",
      "Iter: 10 \tLoss: 0.3344300389289856\n",
      "Iter: 20 \tLoss: 0.3070306181907654\n",
      "Iter: 30 \tLoss: 0.30155959725379944\n",
      "Iter: 40 \tLoss: 0.3351333439350128\n",
      "Iter: 50 \tLoss: 0.26582974195480347\n",
      "Iter: 60 \tLoss: 0.3151700794696808\n",
      "Iter: 70 \tLoss: 0.33483797311782837\n",
      "Iter: 80 \tLoss: 0.35107383131980896\n",
      "Iter: 90 \tLoss: 0.3420068323612213\n",
      "Iter: 100 \tLoss: 0.32032015919685364\n",
      "Iter: 110 \tLoss: 0.3647279441356659\n",
      "Mean Train Loss: 0.335731\n",
      "\n",
      "Epoch: 12\n",
      "Iter: 0 \tLoss: 0.3106376528739929\n",
      "Iter: 10 \tLoss: 0.32129761576652527\n",
      "Iter: 20 \tLoss: 0.3004160225391388\n",
      "Iter: 30 \tLoss: 0.2939758002758026\n",
      "Iter: 40 \tLoss: 0.2977975010871887\n",
      "Iter: 50 \tLoss: 0.29720136523246765\n",
      "Iter: 60 \tLoss: 0.3297617435455322\n",
      "Iter: 70 \tLoss: 0.36885708570480347\n",
      "Iter: 80 \tLoss: 0.29673993587493896\n",
      "Iter: 90 \tLoss: 0.35351115465164185\n",
      "Iter: 100 \tLoss: 0.31714490056037903\n",
      "Iter: 110 \tLoss: 0.38841062784194946\n",
      "Mean Train Loss: 0.325404\n",
      "\n",
      "Val Loss: 0.390161 \tAccuracy: 0.8649468085106383\n",
      "Epoch: 13\n",
      "Iter: 0 \tLoss: 0.3323289453983307\n",
      "Iter: 10 \tLoss: 0.2812640070915222\n",
      "Iter: 20 \tLoss: 0.2919039726257324\n",
      "Iter: 30 \tLoss: 0.28985100984573364\n",
      "Iter: 40 \tLoss: 0.3450886607170105\n",
      "Iter: 50 \tLoss: 0.34848758578300476\n",
      "Iter: 60 \tLoss: 0.32285866141319275\n",
      "Iter: 70 \tLoss: 0.31230682134628296\n",
      "Iter: 80 \tLoss: 0.3290794789791107\n",
      "Iter: 90 \tLoss: 0.39414191246032715\n",
      "Iter: 100 \tLoss: 0.35476967692375183\n",
      "Iter: 110 \tLoss: 0.3290501832962036\n",
      "Mean Train Loss: 0.321646\n",
      "\n",
      "Epoch: 14\n",
      "Iter: 0 \tLoss: 0.2929593324661255\n",
      "Iter: 10 \tLoss: 0.32947948575019836\n",
      "Iter: 20 \tLoss: 0.3763980567455292\n",
      "Iter: 30 \tLoss: 0.32584816217422485\n",
      "Iter: 40 \tLoss: 0.3521840572357178\n",
      "Iter: 50 \tLoss: 0.33431652188301086\n",
      "Iter: 60 \tLoss: 0.3052901327610016\n",
      "Iter: 70 \tLoss: 0.3469218313694\n",
      "Iter: 80 \tLoss: 0.31052255630493164\n",
      "Iter: 90 \tLoss: 0.28667786717414856\n",
      "Iter: 100 \tLoss: 0.32263457775115967\n",
      "Iter: 110 \tLoss: 0.35199785232543945\n",
      "Mean Train Loss: 0.320150\n",
      "\n",
      "Val Loss: 0.377585 \tAccuracy: 0.8707446808510638\n",
      "Epoch: 15\n",
      "Iter: 0 \tLoss: 0.3296571373939514\n",
      "Iter: 10 \tLoss: 0.32800665497779846\n",
      "Iter: 20 \tLoss: 0.30713850259780884\n",
      "Iter: 30 \tLoss: 0.33665040135383606\n",
      "Iter: 40 \tLoss: 0.32702338695526123\n",
      "Iter: 50 \tLoss: 0.2854378819465637\n",
      "Iter: 60 \tLoss: 0.3323339819908142\n",
      "Iter: 70 \tLoss: 0.2887498438358307\n",
      "Iter: 80 \tLoss: 0.3292946219444275\n",
      "Iter: 90 \tLoss: 0.32878202199935913\n",
      "Iter: 100 \tLoss: 0.3169052004814148\n",
      "Iter: 110 \tLoss: 0.3267805874347687\n",
      "Mean Train Loss: 0.312138\n",
      "\n",
      "Epoch: 16\n",
      "Iter: 0 \tLoss: 0.2967052757740021\n",
      "Iter: 10 \tLoss: 0.2812296748161316\n",
      "Iter: 20 \tLoss: 0.2792128920555115\n",
      "Iter: 30 \tLoss: 0.3157101571559906\n",
      "Iter: 40 \tLoss: 0.2800227999687195\n",
      "Iter: 50 \tLoss: 0.332108736038208\n",
      "Iter: 60 \tLoss: 0.32562559843063354\n",
      "Iter: 70 \tLoss: 0.28112056851387024\n",
      "Iter: 80 \tLoss: 0.3211829662322998\n",
      "Iter: 90 \tLoss: 0.2864854335784912\n",
      "Iter: 100 \tLoss: 0.33802559971809387\n",
      "Iter: 110 \tLoss: 0.3466537594795227\n",
      "Mean Train Loss: 0.312506\n",
      "\n",
      "Val Loss: 0.383565 \tAccuracy: 0.8722872340425532\n",
      "Epoch: 17\n",
      "Iter: 0 \tLoss: 0.2920660376548767\n",
      "Iter: 10 \tLoss: 0.29065176844596863\n",
      "Iter: 20 \tLoss: 0.27577564120292664\n",
      "Iter: 30 \tLoss: 0.2860298156738281\n",
      "Iter: 40 \tLoss: 0.3443550169467926\n",
      "Iter: 50 \tLoss: 0.308742880821228\n",
      "Iter: 60 \tLoss: 0.2814255952835083\n",
      "Iter: 70 \tLoss: 0.2978753447532654\n",
      "Iter: 80 \tLoss: 0.3067043125629425\n",
      "Iter: 90 \tLoss: 0.3621112108230591\n",
      "Iter: 100 \tLoss: 0.28966525197029114\n",
      "Iter: 110 \tLoss: 0.30920612812042236\n",
      "Mean Train Loss: 0.305407\n",
      "\n",
      "Epoch: 18\n",
      "Iter: 0 \tLoss: 0.2740509808063507\n",
      "Iter: 10 \tLoss: 0.3023395240306854\n",
      "Iter: 20 \tLoss: 0.2667434811592102\n",
      "Iter: 30 \tLoss: 0.31190457940101624\n",
      "Iter: 40 \tLoss: 0.2824569344520569\n",
      "Iter: 50 \tLoss: 0.31610408425331116\n",
      "Iter: 60 \tLoss: 0.27831128239631653\n",
      "Iter: 70 \tLoss: 0.28427550196647644\n",
      "Iter: 80 \tLoss: 0.2661168575286865\n",
      "Iter: 90 \tLoss: 0.32462286949157715\n",
      "Iter: 100 \tLoss: 0.2935190498828888\n",
      "Iter: 110 \tLoss: 0.3175249695777893\n",
      "Mean Train Loss: 0.296453\n",
      "\n",
      "Val Loss: 0.379550 \tAccuracy: 0.8728191489361702\n",
      "Epoch: 19\n",
      "Iter: 0 \tLoss: 0.2971440851688385\n",
      "Iter: 10 \tLoss: 0.2940216660499573\n",
      "Iter: 20 \tLoss: 0.2879505455493927\n",
      "Iter: 30 \tLoss: 0.24917694926261902\n",
      "Iter: 40 \tLoss: 0.35279762744903564\n",
      "Iter: 50 \tLoss: 0.263435959815979\n",
      "Iter: 60 \tLoss: 0.2890428304672241\n",
      "Iter: 70 \tLoss: 0.2875749468803406\n",
      "Iter: 80 \tLoss: 0.3184410035610199\n",
      "Iter: 90 \tLoss: 0.31214872002601624\n",
      "Iter: 100 \tLoss: 0.30660662055015564\n",
      "Iter: 110 \tLoss: 0.32457277178764343\n",
      "Mean Train Loss: 0.294532\n",
      "\n",
      "Epoch: 20\n",
      "Iter: 0 \tLoss: 0.3038023114204407\n",
      "Iter: 10 \tLoss: 0.3042008876800537\n",
      "Iter: 20 \tLoss: 0.33634069561958313\n",
      "Iter: 30 \tLoss: 0.2778186500072479\n",
      "Iter: 40 \tLoss: 0.25827035307884216\n",
      "Iter: 50 \tLoss: 0.2568776309490204\n",
      "Iter: 60 \tLoss: 0.31172826886177063\n",
      "Iter: 70 \tLoss: 0.286952942609787\n",
      "Iter: 80 \tLoss: 0.31422412395477295\n",
      "Iter: 90 \tLoss: 0.3019247055053711\n",
      "Iter: 100 \tLoss: 0.2678428590297699\n",
      "Iter: 110 \tLoss: 0.2944585382938385\n",
      "Mean Train Loss: 0.291647\n",
      "\n",
      "Val Loss: 0.388135 \tAccuracy: 0.8723404255319149\n",
      "Epoch: 21\n",
      "Iter: 0 \tLoss: 0.2683342397212982\n",
      "Iter: 10 \tLoss: 0.31847235560417175\n",
      "Iter: 20 \tLoss: 0.3222123384475708\n",
      "Iter: 30 \tLoss: 0.29618677496910095\n",
      "Iter: 40 \tLoss: 0.2699904143810272\n",
      "Iter: 50 \tLoss: 0.2770823836326599\n",
      "Iter: 60 \tLoss: 0.2579696476459503\n",
      "Iter: 70 \tLoss: 0.27356499433517456\n",
      "Iter: 80 \tLoss: 0.29151877760887146\n",
      "Iter: 90 \tLoss: 0.3231102526187897\n",
      "Iter: 100 \tLoss: 0.25198933482170105\n",
      "Iter: 110 \tLoss: 0.2994760572910309\n",
      "Mean Train Loss: 0.291377\n",
      "\n",
      "Epoch: 22\n",
      "Iter: 0 \tLoss: 0.23656658828258514\n",
      "Iter: 10 \tLoss: 0.253667950630188\n",
      "Iter: 20 \tLoss: 0.3096509575843811\n",
      "Iter: 30 \tLoss: 0.27924418449401855\n",
      "Iter: 40 \tLoss: 0.26350077986717224\n",
      "Iter: 50 \tLoss: 0.27326682209968567\n",
      "Iter: 60 \tLoss: 0.3525955080986023\n",
      "Iter: 70 \tLoss: 0.22490252554416656\n",
      "Iter: 80 \tLoss: 0.3130951225757599\n",
      "Iter: 90 \tLoss: 0.2826971113681793\n",
      "Iter: 100 \tLoss: 0.2918129861354828\n",
      "Iter: 110 \tLoss: 0.25273388624191284\n",
      "Mean Train Loss: 0.280141\n",
      "\n",
      "Val Loss: 0.400917 \tAccuracy: 0.8723936170212766\n",
      "Epoch: 23\n",
      "Iter: 0 \tLoss: 0.2548719048500061\n",
      "Iter: 10 \tLoss: 0.22339172661304474\n",
      "Iter: 20 \tLoss: 0.2945098876953125\n",
      "Iter: 30 \tLoss: 0.24288927018642426\n",
      "Iter: 40 \tLoss: 0.29573673009872437\n",
      "Iter: 50 \tLoss: 0.24356450140476227\n",
      "Iter: 60 \tLoss: 0.29850539565086365\n",
      "Iter: 70 \tLoss: 0.27565789222717285\n",
      "Iter: 80 \tLoss: 0.2773670256137848\n",
      "Iter: 90 \tLoss: 0.3072161078453064\n",
      "Iter: 100 \tLoss: 0.2810267508029938\n",
      "Iter: 110 \tLoss: 0.3170938491821289\n",
      "Mean Train Loss: 0.278174\n",
      "\n",
      "Epoch: 24\n",
      "Iter: 0 \tLoss: 0.24023506045341492\n",
      "Iter: 10 \tLoss: 0.29312562942504883\n",
      "Iter: 20 \tLoss: 0.2583405375480652\n",
      "Iter: 30 \tLoss: 0.3292086124420166\n",
      "Iter: 40 \tLoss: 0.27534645795822144\n",
      "Iter: 50 \tLoss: 0.28768742084503174\n",
      "Iter: 60 \tLoss: 0.279975563287735\n",
      "Iter: 70 \tLoss: 0.3112700283527374\n",
      "Iter: 80 \tLoss: 0.3138447701931\n",
      "Iter: 90 \tLoss: 0.28566333651542664\n",
      "Iter: 100 \tLoss: 0.29753610491752625\n",
      "Iter: 110 \tLoss: 0.3171731233596802\n",
      "Mean Train Loss: 0.286816\n",
      "\n",
      "Val Loss: 0.403217 \tAccuracy: 0.8666489361702128\n",
      "Epoch: 25\n",
      "Iter: 0 \tLoss: 0.2938486635684967\n",
      "Iter: 10 \tLoss: 0.2945379614830017\n",
      "Iter: 20 \tLoss: 0.29407578706741333\n",
      "Iter: 30 \tLoss: 0.29470741748809814\n",
      "Iter: 40 \tLoss: 0.23617038130760193\n",
      "Iter: 50 \tLoss: 0.3098757565021515\n",
      "Iter: 60 \tLoss: 0.30856022238731384\n",
      "Iter: 70 \tLoss: 0.2954239547252655\n",
      "Iter: 80 \tLoss: 0.29703766107559204\n",
      "Iter: 90 \tLoss: 0.29538220167160034\n",
      "Iter: 100 \tLoss: 0.27122771739959717\n",
      "Iter: 110 \tLoss: 0.2626607120037079\n",
      "Mean Train Loss: 0.283582\n",
      "\n",
      "Epoch: 26\n",
      "Iter: 0 \tLoss: 0.25317147374153137\n",
      "Iter: 10 \tLoss: 0.28520193696022034\n",
      "Iter: 20 \tLoss: 0.2433890700340271\n",
      "Iter: 30 \tLoss: 0.20731167495250702\n",
      "Iter: 40 \tLoss: 0.30268844962120056\n",
      "Iter: 50 \tLoss: 0.24288436770439148\n",
      "Iter: 60 \tLoss: 0.2500525414943695\n",
      "Iter: 70 \tLoss: 0.27141088247299194\n",
      "Iter: 80 \tLoss: 0.28488534688949585\n",
      "Iter: 90 \tLoss: 0.273799329996109\n",
      "Iter: 100 \tLoss: 0.3097328841686249\n",
      "Iter: 110 \tLoss: 0.263990193605423\n",
      "Mean Train Loss: 0.273790\n",
      "\n",
      "Val Loss: 0.407300 \tAccuracy: 0.8686702127659575\n",
      "Epoch: 27\n",
      "Iter: 0 \tLoss: 0.29186952114105225\n",
      "Iter: 10 \tLoss: 0.24822132289409637\n",
      "Iter: 20 \tLoss: 0.2707715332508087\n",
      "Iter: 30 \tLoss: 0.2713276445865631\n",
      "Iter: 40 \tLoss: 0.2667863070964813\n",
      "Iter: 50 \tLoss: 0.2986508905887604\n",
      "Iter: 60 \tLoss: 0.2703084647655487\n",
      "Iter: 70 \tLoss: 0.25649359822273254\n",
      "Iter: 80 \tLoss: 0.22218656539916992\n",
      "Iter: 90 \tLoss: 0.29396340250968933\n",
      "Iter: 100 \tLoss: 0.2645633816719055\n",
      "Iter: 110 \tLoss: 0.2947443425655365\n",
      "Mean Train Loss: 0.270570\n",
      "\n",
      "Epoch: 28\n",
      "Iter: 0 \tLoss: 0.2803725004196167\n",
      "Iter: 10 \tLoss: 0.22223325073719025\n",
      "Iter: 20 \tLoss: 0.2421305626630783\n",
      "Iter: 30 \tLoss: 0.24578025937080383\n",
      "Iter: 40 \tLoss: 0.27467575669288635\n",
      "Iter: 50 \tLoss: 0.2241227626800537\n",
      "Iter: 60 \tLoss: 0.294271320104599\n",
      "Iter: 70 \tLoss: 0.2453875094652176\n",
      "Iter: 80 \tLoss: 0.3088603615760803\n",
      "Iter: 90 \tLoss: 0.27572137117385864\n",
      "Iter: 100 \tLoss: 0.2735587954521179\n",
      "Iter: 110 \tLoss: 0.3082394599914551\n",
      "Mean Train Loss: 0.275837\n",
      "\n",
      "Val Loss: 0.417185 \tAccuracy: 0.8695744680851064\n",
      "Epoch: 29\n",
      "Iter: 0 \tLoss: 0.2797220051288605\n",
      "Iter: 10 \tLoss: 0.2528505325317383\n",
      "Iter: 20 \tLoss: 0.24759608507156372\n",
      "Iter: 30 \tLoss: 0.29365548491477966\n",
      "Iter: 40 \tLoss: 0.25941553711891174\n",
      "Iter: 50 \tLoss: 0.2104133814573288\n",
      "Iter: 60 \tLoss: 0.24642761051654816\n",
      "Iter: 70 \tLoss: 0.2763438820838928\n",
      "Iter: 80 \tLoss: 0.2544300854206085\n",
      "Iter: 90 \tLoss: 0.2664030194282532\n",
      "Iter: 100 \tLoss: 0.2706347703933716\n",
      "Iter: 110 \tLoss: 0.24631401896476746\n",
      "Mean Train Loss: 0.267023\n",
      "\n",
      "Val Loss: 0.406824 \tAccuracy: 0.8745212765957446\n"
     ]
    }
   ],
   "source": [
    "model = CNN_for_EMNIST()\n",
    "loss_f = nn.CrossEntropyLoss()\n",
    "optimizer = torch.optim.Adam(model.parameters(), lr=0.01)\n",
    "\n",
    "n_epoch = 30\n",
    "val_fre = 2\n",
    "\n",
    "train(model, optimizer, loss_f, train_loader, val_loader, n_epoch, val_fre)\n",
    "# torch.save(model.state_dict(), 'checkpoints/cnn.pth')\n",
    "#model.load_state_dict(torch.load('checkpoints/cnn.pth'))\n",
    "validate(model, val_loader)"
   ]
  },
  {
   "cell_type": "code",
   "execution_count": 36,
   "id": "f21ff40f",
   "metadata": {},
   "outputs": [],
   "source": [
    "torch.save(model.state_dict(), 'model_exp/mod1608_087_no_aug_no_batch.pth')"
   ]
  },
  {
   "cell_type": "code",
   "execution_count": 35,
   "id": "288bd49e",
   "metadata": {},
   "outputs": [
    {
     "name": "stdout",
     "output_type": "stream",
     "text": [
      "Epoch: 0\n",
      "Iter: 0 \tLoss: 0.2541680634021759\n",
      "Iter: 10 \tLoss: 0.2634616792201996\n",
      "Iter: 20 \tLoss: 0.2749045193195343\n",
      "Iter: 30 \tLoss: 0.2627241015434265\n",
      "Iter: 40 \tLoss: 0.25732171535491943\n",
      "Iter: 50 \tLoss: 0.23439337313175201\n",
      "Iter: 60 \tLoss: 0.24564145505428314\n",
      "Iter: 70 \tLoss: 0.2396508902311325\n",
      "Iter: 80 \tLoss: 0.25704628229141235\n",
      "Iter: 90 \tLoss: 0.2783668339252472\n",
      "Iter: 100 \tLoss: 0.2375781238079071\n",
      "Iter: 110 \tLoss: 0.24274341762065887\n",
      "Mean Train Loss: 0.260864\n",
      "\n",
      "Val Loss: 0.454082 \tAccuracy: 0.8653191489361702\n",
      "Epoch: 1\n",
      "Iter: 0 \tLoss: 0.21537184715270996\n",
      "Iter: 10 \tLoss: 0.24320003390312195\n",
      "Iter: 20 \tLoss: 0.2712230086326599\n",
      "Iter: 30 \tLoss: 0.20857346057891846\n",
      "Iter: 40 \tLoss: 0.2777753174304962\n",
      "Iter: 50 \tLoss: 0.24302434921264648\n",
      "Iter: 60 \tLoss: 0.22818797826766968\n",
      "Iter: 70 \tLoss: 0.23688969016075134\n",
      "Iter: 80 \tLoss: 0.29370206594467163\n",
      "Iter: 90 \tLoss: 0.2768579423427582\n",
      "Iter: 100 \tLoss: 0.3062811493873596\n",
      "Iter: 110 \tLoss: 0.2907228469848633\n",
      "Mean Train Loss: 0.252310\n",
      "\n",
      "Epoch: 2\n",
      "Iter: 0 \tLoss: 0.2414475530385971\n",
      "Iter: 10 \tLoss: 0.2280043065547943\n",
      "Iter: 20 \tLoss: 0.2353469431400299\n",
      "Iter: 30 \tLoss: 0.1882777363061905\n",
      "Iter: 40 \tLoss: 0.24163319170475006\n",
      "Iter: 50 \tLoss: 0.24928952753543854\n",
      "Iter: 60 \tLoss: 0.2881942093372345\n",
      "Iter: 70 \tLoss: 0.21757569909095764\n",
      "Iter: 80 \tLoss: 0.2527311444282532\n",
      "Iter: 90 \tLoss: 0.26966333389282227\n",
      "Iter: 100 \tLoss: 0.29321879148483276\n",
      "Iter: 110 \tLoss: 0.23222072422504425\n",
      "Mean Train Loss: 0.248838\n",
      "\n",
      "Val Loss: 0.454576 \tAccuracy: 0.8690425531914894\n",
      "Epoch: 3\n",
      "Iter: 0 \tLoss: 0.21329572796821594\n",
      "Iter: 10 \tLoss: 0.26306164264678955\n",
      "Iter: 20 \tLoss: 0.25000929832458496\n",
      "Iter: 30 \tLoss: 0.27767977118492126\n",
      "Iter: 40 \tLoss: 0.2661939859390259\n",
      "Iter: 50 \tLoss: 0.2791520059108734\n",
      "Iter: 60 \tLoss: 0.23793138563632965\n",
      "Iter: 70 \tLoss: 0.24145281314849854\n",
      "Iter: 80 \tLoss: 0.25730273127555847\n",
      "Iter: 90 \tLoss: 0.25352728366851807\n",
      "Iter: 100 \tLoss: 0.25039154291152954\n",
      "Iter: 110 \tLoss: 0.22750037908554077\n",
      "Mean Train Loss: 0.252647\n",
      "\n",
      "Epoch: 4\n",
      "Iter: 0 \tLoss: 0.207674041390419\n",
      "Iter: 10 \tLoss: 0.2463492453098297\n",
      "Iter: 20 \tLoss: 0.2588636875152588\n",
      "Iter: 30 \tLoss: 0.23463505506515503\n",
      "Iter: 40 \tLoss: 0.23975931107997894\n",
      "Iter: 50 \tLoss: 0.2822049558162689\n",
      "Iter: 60 \tLoss: 0.21152395009994507\n",
      "Iter: 70 \tLoss: 0.21221128106117249\n",
      "Iter: 80 \tLoss: 0.3458178639411926\n",
      "Iter: 90 \tLoss: 0.24643562734127045\n",
      "Iter: 100 \tLoss: 0.20985306799411774\n",
      "Iter: 110 \tLoss: 0.25686538219451904\n",
      "Mean Train Loss: 0.246949\n",
      "\n",
      "Val Loss: 0.437949 \tAccuracy: 0.8672872340425531\n",
      "Val Loss: 0.437949 \tAccuracy: 0.8672872340425531\n"
     ]
    }
   ],
   "source": [
    "n_epoch = 5\n",
    "val_fre = 2\n",
    "\n",
    "train(model, optimizer, loss_f, train_loader, val_loader, n_epoch, val_fre)\n",
    "# torch.save(model.state_dict(), 'checkpoints/cnn.pth')\n",
    "#model.load_state_dict(torch.load('checkpoints/cnn.pth'))\n",
    "validate(model, val_loader)"
   ]
  },
  {
   "cell_type": "code",
   "execution_count": 39,
   "id": "6b1562e3",
   "metadata": {},
   "outputs": [],
   "source": []
  },
  {
   "cell_type": "code",
   "execution_count": 40,
   "id": "9a8b3442",
   "metadata": {},
   "outputs": [],
   "source": []
  }
 ],
 "metadata": {
  "kernelspec": {
   "display_name": "Python 3 (ipykernel)",
   "language": "python",
   "name": "python3"
  },
  "language_info": {
   "codemirror_mode": {
    "name": "ipython",
    "version": 3
   },
   "file_extension": ".py",
   "mimetype": "text/x-python",
   "name": "python",
   "nbconvert_exporter": "python",
   "pygments_lexer": "ipython3",
   "version": "3.12.1"
  }
 },
 "nbformat": 4,
 "nbformat_minor": 5
}
